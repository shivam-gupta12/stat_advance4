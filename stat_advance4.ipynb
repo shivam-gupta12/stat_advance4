{
 "cells": [
  {
   "cell_type": "markdown",
   "id": "bd4f5bfa-9482-4353-9c70-975715137529",
   "metadata": {},
   "source": [
    "# question 1\n",
    "\n",
    "A z-test is used to test a Null Hypothesis if the population variance is known, or if the sample size is larger than 30, for an unknown population variance. A t-test is used when the sample size is less than 30 and the population variance is unknown.Thus, in a test test, we use sample variance in place of population variance"
   ]
  },
  {
   "cell_type": "markdown",
   "id": "2ca821cf-0763-4222-b6b4-96de04c31202",
   "metadata": {},
   "source": [
    "# question 2\n",
    "\n",
    "1. One-tailed test, as the name suggest is the statistical hypothesis test, in which the alternative hypothesis has a single end. On the other hand, two-tailed test implies the hypothesis test; wherein the alternative hypothesis has dual ends.\n",
    "\n",
    "2. In the one-tailed test, the alternative hypothesis is represented directionally. Conversely, the two-tailed test is a non-directional hypothesis test.\n",
    "\n",
    "3. In a one-tailed test, the region of rejection is either on the left or right of the sampling distribution. On the contrary, the region of rejection is on both the sides of the sampling distribution.\n",
    "\n",
    "4. A one-tailed test is used to ascertain if there is any relationship between variables in a single direction, i.e. left or right. As against this, the two-tailed test is used to identify whether or not there is any relationship between variables in either direction.\n",
    "\n",
    "5. In a one-tailed test, the test parameter calculated is more or less than the critical value. Unlike, two-tailed test, the result obtained is within or outside critical value.\n",
    "\n",
    "6. When an alternative hypothesis has ‘≠’ sign, then a two-tailed test is performed. In contrast, when an alternative hypothesis has ‘> or <‘ sign, then one-tailed test is carried out."
   ]
  },
  {
   "cell_type": "markdown",
   "id": "fe15971b-02fc-4c46-9bb3-0e88857358ba",
   "metadata": {},
   "source": [
    "# question 3\n",
    "In statistics, a Type I error is a false positive conclusion, while a Type II error is a false negative conclusion.\n",
    "\n",
    "Type I error (false positive): the test result says you have coronavirus, but you actually don’t.\n",
    "\n",
    "Type II error (false negative): the test result says you don’t have coronavirus, but you actually do."
   ]
  },
  {
   "cell_type": "markdown",
   "id": "66631b1e-4d8d-46da-8913-071a2a614693",
   "metadata": {},
   "source": [
    "# question 4"
   ]
  },
  {
   "attachments": {
    "94acac99-2968-4dd4-92f3-1db8327aa8e0.png": {
     "image/png": "[encoded data removed]"
    }
   },
   "cell_type": "markdown",
   "id": "f8bea652-f464-483d-b216-313ee246e3f3",
   "metadata": {},
   "source": [
    "Bayes’ theorem describes the probability of occurrence of an event related to any condition. It is also considered for the case of conditional probability. Bayes theorem is also known as the formula for the probability of “causes”. For example: if we have to calculate the probability of taking a blue ball from the second bag out of three different bags of balls, where each bag contains three different colour balls viz. red, blue, black. In this case, the probability of occurrence of an event is calculated depending on other conditions is known as conditional probability.\n",
    "\n",
    "![image.png](attachment:94acac99-2968-4dd4-92f3-1db8327aa8e0.png)"
   ]
  },
  {
   "cell_type": "markdown",
   "id": "0b77eef5-3933-4c15-b27f-0eabfb8b89e5",
   "metadata": {},
   "source": [
    "# question 5\n",
    "A confidence interval for the mean is a way of estimating the true population mean. Instead of a single number for the mean, a confidence interval gives you a lower estimate and an upper estimate. For example, instead of “6” as the mean you might get {5,7}, where 5 is the lower estimate and 7 is the upper.\n",
    "\n",
    "Confidence interval = sample mean ± margin of error\n",
    "\n",
    "The population mean for a certain variable is estimated by computing a confidence interval for that mean. ▪ If several random samples were collected, the mean for that variable would be slightly different from one sample to another.\n"
   ]
  },
  {
   "cell_type": "markdown",
   "id": "cff26749-d430-4713-957d-69c9247345c1",
   "metadata": {},
   "source": [
    "# question 6\n",
    "Example : Assume that the chances of a person having a skin disease are 40%. Assuming that skin creams and drinking enough water reduces the risk of skin disease by 30% and prescription of a certain drug reduces its chance by 20%. At a time, a patient can choose any one of the two options with equal probabilities. It is given that after picking one of the options, the patient selected at random has the skin disease. Find the probability that the patient picked the option of skin screams and drinking enough water using the Bayes theorem.\n",
    "\n",
    "Solution: Assume E1: The patient uses skin creams and drinks enough water; E2: The patient uses the drug; A: The selected patient has the skin disease\n",
    "\n",
    "P(E1) = P(E2) = 1/2\n",
    "\n",
    "Using the probabilities known to us, we have\n",
    "\n",
    "P(A|E1) = 0.4 × (1-0.3) = 0.28\n",
    "\n",
    "P(A|E2) = 0.4 × (1-0.2) = 0.32\n",
    "\n",
    "Using Bayes Theorem, the probability that the selected patient uses skin creams and drinks enough water is given by,\n",
    "\n",
    "= (0.28 × 0.5)/(0.28 × 0.5 + 0.32 × 0.5)\n",
    "\n",
    "= 0.14/(0.14 + 0.16)\n",
    "\n",
    "= 0.47\n",
    "\n",
    "Answer: The probability that the patient picked the first option is 0.47\n",
    "\n"
   ]
  },
  {
   "cell_type": "markdown",
   "id": "4d1efe2e-fbb6-4f70-8882-e195d854955c",
   "metadata": {},
   "source": [
    "# question 7\n",
    "\n",
    "To calculate the 95% confidence interval for a sample of data with a mean of 50 and a standard deviation of 5, we need to use the formula:\n",
    "\n",
    "Confidence Interval = Mean ± (Z-score x Standard Error)\n",
    "\n",
    "where Z-score is the value from the standard normal distribution corresponding to the desired confidence level (95% in this case) and Standard Error is the standard deviation of the sampling distribution, calculated as:\n",
    "\n",
    "Standard Error = Standard Deviation / √(Sample Size)\n",
    "\n",
    "Assuming a normal distribution and a sample size of 30, the Z-score corresponding to a 95% confidence level is 1.96. So, plugging in the values:\n",
    "\n",
    "Confidence Interval = 50 ± (1.96 x (5 / √30))\n",
    "\n",
    "Confidence Interval = 50 ± 1.81\n",
    "\n",
    "The 95% confidence interval for the sample of data is (48.19, 51.81). This means that we can be 95% confident that the true population mean falls within this range. Another way to interpret this result is that if we were to repeat the sampling process many times and calculate the confidence interval for each sample, 95% of those intervals would contain the true population mean.\n",
    "\n",
    "\n",
    "\n"
   ]
  },
  {
   "cell_type": "markdown",
   "id": "c3646af3-5add-418c-a725-070b2051164d",
   "metadata": {},
   "source": [
    "# question 8 \n",
    "The margin of error is the amount of uncertainty in a sample statistic that arises due to the fact that only a sample, rather than the entire population, is being studied. It is typically represented as a plus or minus value and is used to calculate a confidence interval, which is a range of values that likely contains the true population parameter.\n",
    "\n",
    "The margin of error is affected by several factors, including the level of confidence desired, the variability of the population, and the sample size. As the sample size increases, the margin of error decreases because larger sample sizes provide more information about the population and reduce the impact of sampling variability. With more data, the estimate of the population parameter becomes more precise, which results in a narrower confidence interval and a smaller margin of error\n",
    "\n",
    "For example, suppose a pollster wants to estimate the proportion of voters who support a particular candidate in an upcoming election. If the pollster takes a small sample of 100 voters and finds that 60% support the candidate, the margin of error for a 95% confidence interval might be around +/- 10%. However, if the pollster takes a larger sample of 1000 voters and finds the same proportion of 60% support, the margin of error might be only +/- 3%.\n",
    "\n"
   ]
  },
  {
   "cell_type": "markdown",
   "id": "f60e672a-a2f2-4f8b-9847-559edd36ddf0",
   "metadata": {},
   "source": [
    "# question 9\n",
    "To calculate the z-score for this data point, we use the formula:\n",
    "\n",
    "z = (x - μ) / σ\n",
    "\n",
    "where:\n",
    "x = the value of the data point (75)\n",
    "μ = the population mean (70)\n",
    "σ = the population standard deviation (5)\n",
    "\n",
    "Plugging in the values, we get:\n",
    "\n",
    "z = (75 - 70) / 5 = 1\n",
    "\n",
    "Interpreting the result, a z-score of 1 indicates that the data point of 75 is one standard deviation above the population mean of 70. "
   ]
  },
  {
   "cell_type": "markdown",
   "id": "d34dbb1a-3c08-48c8-922e-fc1a6bb02528",
   "metadata": {},
   "source": [
    "# question 10\n",
    "\n",
    "To conduct a hypothesis test, we need to state our null hypothesis and alternative hypothesis:\n",
    "\n",
    "Null hypothesis (H0): The weight loss drug is not significantly effective.\n",
    "Alternative hypothesis (Ha): The weight loss drug is significantly effective.\n",
    "We will use a two-tailed t-test, because we want to determine if the drug is significantly effective or not, without making any assumptions about the direction of the effect.\n",
    "\n",
    "We will use a significance level of 0.05, which corresponds to a 95% confidence level.\n",
    "\n",
    "The formula for the t-test is:\n",
    "\n",
    "t = (x̄ - μ) / (s / √n)\n",
    "\n",
    "where:\n",
    "\n",
    "x̄ is the sample mean (6 pounds in this case)\n",
    "μ is the hypothesized population mean (we assume μ = 0 for the null hypothesis)\n",
    "s is the sample standard deviation (2.5 pounds in this case)\n",
    "n is the sample size (50 in this case)\n",
    "Plugging in the values, we get:\n",
    "\n",
    "t = (6 - 0) / (2.5 / √50) = 18.97\n",
    "\n",
    "The degrees of freedom for a t-test with n-1 degrees of freedom is 49.\n",
    "\n",
    "Using a t-distribution table or a t-test calculator with 49 degrees of freedom, a significance level of 0.05, and a two-tailed test, we find that the critical t-value is approximately ±2.009.\n",
    "\n",
    "Since our calculated t-value of 18.97 is much larger than the critical t-value of ±2.009, we reject the null hypothesis and conclude that the weight loss drug is significantly effective at a 95% confidence level.\n"
   ]
  },
  {
   "cell_type": "markdown",
   "id": "2fabdaac-5580-4d38-81fb-8012e8733168",
   "metadata": {},
   "source": [
    "# question 11\n",
    "To calculate the 95% confidence interval for the true proportion of people who are satisfied with their job, we need to use the formula:\n",
    "\n",
    "Confidence Interval = Sample Proportion ± (Z-score x Standard Error)\n",
    "\n",
    "where Z-score is the value from the standard normal distribution corresponding to the desired confidence level (95% in this case) and Standard Error is the standard deviation of the sampling distribution, calculated as:\n",
    "\n",
    "Standard Error = √((Sample Proportion x (1 - Sample Proportion)) / Sample Size)\n",
    "\n",
    "Plugging in the values:\n",
    "\n",
    "Sample Proportion = 0.65\n",
    "Sample Size = 500\n",
    "Z-score = 1.96\n",
    "\n",
    "Standard Error = √((0.65 x 0.35) / 500) = 0.029\n",
    "\n",
    "Confidence Interval = 0.65 ± (1.96 x 0.029)\n",
    "\n",
    "Confidence Interval = (0.594, 0.706)\n",
    "\n",
    "The 95% confidence interval for the true proportion of people who are satisfied with their job is (0.594, 0.706). This means that we can be 95% confident that the true population proportion of people who are satisfied with their job falls within this range"
   ]
  },
  {
   "cell_type": "markdown",
   "id": "d92f253c-2a99-49c8-93be-1588f1dbb3b3",
   "metadata": {},
   "source": [
    "# question 12\n",
    "\n",
    "To conduct a hypothesis test to determine if the two teaching methods have a significant difference in student performance, we need to state our null hypothesis and alternative hypothesis:\n",
    "\n",
    "Null hypothesis (H0): The two teaching methods do not have a significant difference in student performance.\n",
    "Alternative hypothesis (Ha): The two teaching methods have a significant difference in student performance.\n",
    "We will use a two-tailed t-test, because we want to determine if there is a significant difference in performance between the two teaching methods, without making any assumptions about the direction of the effect.\n",
    "\n",
    "We will use a significance level of 0.01, which corresponds to a 99% confidence level.\n",
    "\n",
    "The formula for the t-test for two independent samples is:\n",
    "\n",
    "t = (x̄1 - x̄2) / (sqrt((s1^2/n1) + (s2^2/n2)))\n",
    "\n",
    "where:\n",
    "\n",
    "x̄1 and x̄2 are the sample means (85 and 82 in this case)\n",
    "s1 and s2 are the sample standard deviations (6 and 5 in this case)\n",
    "n1 and n2 are the sample sizes (we assume they are equal, so we will use 20 for each)\n",
    "Plugging in the values, we get:\n",
    "\n",
    "t = (85 - 82) / (sqrt((6^2/20) + (5^2/20))) = 2.07\n",
    "\n",
    "The degrees of freedom for a t-test for two independent samples with equal variances and n1 = n2 is 2n - 2, which is 38 in this case.\n",
    "\n",
    "Using a t-distribution table or a t-test calculator with 38 degrees of freedom, a significance level of 0.01, and a two-tailed test, we find that the critical t-value is approximately ±2.704.\n",
    "\n",
    "Since our calculated t-value of 2.07 is smaller than the critical t-value of ±2.704, we fail to reject the null hypothesis and conclude that there is not enough evidence to suggest that the two teaching methods have a significant difference in student performance at a 99% confidence level.\n",
    "\n"
   ]
  },
  {
   "cell_type": "markdown",
   "id": "80f8e5c5-b78c-4ceb-b45a-148dbb528f5f",
   "metadata": {},
   "source": [
    "# question 13\n",
    "\n",
    "To calculate the confidence interval for the true population mean, we can use the following formula:\n",
    "\n",
    "CI = x̄ ± z*(s/sqrt(n))\n",
    "\n",
    "where:\n",
    "\n",
    "x̄ is the sample mean (65 in this case)\n",
    "z is the z-score associated with the desired confidence level (we will use 1.645 for a 90% confidence level)\n",
    "s is the sample standard deviation (8 in this case)\n",
    "n is the sample size (50 in this case)\n",
    "Plugging in the values, we get:\n",
    "\n",
    "CI = 65 ± 1.645*(8/sqrt(50))\n",
    "\n",
    "Simplifying, we get:\n",
    "\n",
    "CI = 65 ± 1.829\n",
    "\n",
    "Therefore, the 90% confidence interval for the true population mean is (63.171, 66.829). We can interpret this as follows: if we were to repeat the sampling many times, we would expect the true population mean to be within this range 90% of the time."
   ]
  },
  {
   "cell_type": "markdown",
   "id": "857ceadf-0fc7-4145-a937-19eac40f5c58",
   "metadata": {},
   "source": [
    "# question 14\n",
    "To test whether caffeine has a significant effect on reaction time, we need to set up the null and alternative hypotheses:\n",
    "\n",
    "Null hypothesis: Caffeine has no significant effect on reaction time.\n",
    "Alternative hypothesis: Caffeine has a significant effect on reaction time.\n",
    "\n",
    "We will use a one-sample t-test to compare the sample mean to a hypothesized population mean (in this case, the population mean is assumed to be 0.25 seconds). The formula for the t-test statistic is:\n",
    "\n",
    "t = (x - μ) / (s / sqrt(n))\n",
    "\n",
    "where:\n",
    "x = sample mean (0.25 seconds)\n",
    "μ = hypothesized population mean (0.25 seconds)\n",
    "s = sample standard deviation (0.05 seconds)\n",
    "n = sample size (30)\n",
    "\n",
    "Plugging in the values given in the problem, we get:\n",
    "\n",
    "t = (0.25 - 0.25) / (0.05 / sqrt(30))\n",
    "t = 0 / 0.009146\n",
    "t = 0\n",
    "\n",
    "The calculated t-value is 0, indicating that the sample mean is equal to the hypothesized population mean. To determine whether this result is statistically significant at a 90% confidence level, we need to compare the t-value to the critical value of t with 29 degrees of freedom (n-1) at a significance level of 0.10 (1 - 0.90 = 0.10).\n",
    "\n",
    "Using a t-table or calculator, we find that the critical value of t for a one-tailed test with 29 degrees of freedom at a significance level of 0.10 is approximately 1.311.\n",
    "\n",
    "Since our calculated t-value (0) is less than the critical value of t (1.311), we fail to reject the null hypothesis and conclude that there is not enough evidence to support the claim that caffeine has a significant effect on reaction time at a 90% confidence level.\n"
   ]
  },
  {
   "cell_type": "code",
   "execution_count": null,
   "id": "42c74943-041d-4060-8ab6-2608c646497b",
   "metadata": {},
   "outputs": [],
   "source": []
  }
 ],
 "metadata": {
  "kernelspec": {
   "display_name": "Python 3 (ipykernel)",
   "language": "python",
   "name": "python3"
  },
  "language_info": {
   "codemirror_mode": {
    "name": "ipython",
    "version": 3
   },
   "file_extension": ".py",
   "mimetype": "text/x-python",
   "name": "python",
   "nbconvert_exporter": "python",
   "pygments_lexer": "ipython3",
   "version": "3.10.8"
  }
 },
 "nbformat": 4,
 "nbformat_minor": 5
}
